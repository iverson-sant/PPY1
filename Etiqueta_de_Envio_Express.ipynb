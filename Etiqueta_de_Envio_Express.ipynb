{
  "nbformat": 4,
  "nbformat_minor": 0,
  "metadata": {
    "colab": {
      "provenance": [],
      "authorship_tag": "ABX9TyPdvAqRykcwKXvYXfQT0Xn7",
      "include_colab_link": true
    },
    "kernelspec": {
      "name": "python3",
      "display_name": "Python 3"
    },
    "language_info": {
      "name": "python"
    }
  },
  "cells": [
    {
      "cell_type": "markdown",
      "metadata": {
        "id": "view-in-github",
        "colab_type": "text"
      },
      "source": [
        "<a href=\"https://colab.research.google.com/github/iverson-sant/PPY1/blob/main/Etiqueta_de_Envio_Express.ipynb\" target=\"_parent\"><img src=\"https://colab.research.google.com/assets/colab-badge.svg\" alt=\"Open In Colab\"/></a>"
      ]
    },
    {
      "cell_type": "markdown",
      "source": [
        "# **Etiqueta de Envio Express**\n",
        "\n",
        "Você recebeu uma linha contendo os dados crus de uma encomenda, separados por “ ; ” nesta ordem:\n",
        "\n",
        "\n",
        "NOME DO(A) DESTINATÁRIO(A) ; ENDEREÇO ; CEP ; CÓDIGO DE RASTREIO\n",
        "\n",
        "MARIA  DOS ANJOS JR ;  av brasil 123  ; 22.345-678 ; lw123456789cn\n",
        "\n",
        "Nome: Maria dos anjos Júnior\n",
        "Endereço: Avenida Brasil Nº 123\n",
        "CEP: 22345-678\n",
        "Código: LW123456789CNBR"
      ],
      "metadata": {
        "id": "ogAJ6YwWuc_c"
      }
    },
    {
      "cell_type": "code",
      "execution_count": 65,
      "metadata": {
        "id": "YxG7-BC6ucSg"
      },
      "outputs": [],
      "source": [
        "def Etiqueta():\n",
        "  envio = input()\n",
        "  partes = envio.split(\";\")\n",
        "\n",
        "  nome = partes[0].strip().lower().replace(' jr', ' junior').capitalize()\n",
        "  endereco = partes[1].strip().replace('av', 'Avenida').title()\n",
        "  cep = partes[2].strip().replace(\".\", \"\").replace(\"-\",\"\")\n",
        "  codigoRastreamento = partes[3].strip().upper()\n",
        "\n",
        "  if len(nome) !=0:\n",
        "    print(f\"Nome: {nome}\")\n",
        "  else:\n",
        "    print(\"Nome: ENTRADA INVALIDA.\")\n",
        "\n",
        "  print(f\"Endereço: {endereco[:15]}N° {endereco[15:]}\")\n",
        "\n",
        "  if len(cep) == 8 :\n",
        "    print(f\"CEP: {cep[:5]}-{cep[5:8]}\")\n",
        "  else:\n",
        "    print(\"CEP: ENTRADA INVALIDA\")\n",
        "\n",
        "  if codigoRastreamento.endswith(\"BR\"):\n",
        "    print(f\"Código de Rastreamento: {codigoRastreamento}\")\n",
        "  else:\n",
        "    print(f\"Código de Rastreamento: {codigoRastreamento}BR\")"
      ]
    },
    {
      "cell_type": "code",
      "source": [
        "Etiqueta()"
      ],
      "metadata": {
        "colab": {
          "base_uri": "https://localhost:8080/"
        },
        "id": "arl21exZztib",
        "outputId": "c7e8fa19-5501-4142-a1c3-7d952d8371f0"
      },
      "execution_count": 68,
      "outputs": [
        {
          "output_type": "stream",
          "name": "stdout",
          "text": [
            "MARIA DOS ANJOS JR ; av brasil 123 ; 22.345-678 ; lw123456789cnbr\n",
            "Nome: Maria dos anjos junior\n",
            "Endereço: Avenida Brasil N° 123\n",
            "CEP: 22345-678\n",
            "Código de Rastreamento: LW123456789CNBR\n"
          ]
        }
      ]
    }
  ]
}