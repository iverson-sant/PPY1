{
  "nbformat": 4,
  "nbformat_minor": 0,
  "metadata": {
    "colab": {
      "provenance": [],
      "authorship_tag": "ABX9TyMVxCf3EbNg8vdx7lvnBumg",
      "include_colab_link": true
    },
    "kernelspec": {
      "name": "python3",
      "display_name": "Python 3"
    },
    "language_info": {
      "name": "python"
    }
  },
  "cells": [
    {
      "cell_type": "markdown",
      "metadata": {
        "id": "view-in-github",
        "colab_type": "text"
      },
      "source": [
        "<a href=\"https://colab.research.google.com/github/iverson-sant/PPY1/blob/main/Pares_entre_Cinco_N%C3%BAmeros.ipynb\" target=\"_parent\"><img src=\"https://colab.research.google.com/assets/colab-badge.svg\" alt=\"Open In Colab\"/></a>"
      ]
    },
    {
      "cell_type": "markdown",
      "source": [
        "# **Pares entre Cinco Números**"
      ],
      "metadata": {
        "id": "atzdKmhVqIUc"
      }
    },
    {
      "cell_type": "code",
      "execution_count": 14,
      "metadata": {
        "id": "fTC705hyp-Ha"
      },
      "outputs": [],
      "source": [
        "def Num_par():\n",
        "\n",
        "  try:\n",
        "    num1 = int(input(\"Digite o 1° número: \"))\n",
        "    num2 = int(input(\"Digite o 2° número: \"))\n",
        "    num3 = int(input(\"Digite o 3° número: \"))\n",
        "    num4 = int(input(\"Digite o 4° número: \"))\n",
        "    num5 = int(input(\"Digite o 5° número: \"))\n",
        "\n",
        "  except ValueError:\n",
        "    print(\"Por favor digite apenas números\")\n",
        "    return\n",
        "\n",
        "  numP1 = num1 % 2\n",
        "  numP2 = num2 % 2\n",
        "  numP3 = num3 % 2\n",
        "  numP4 = num4 % 2\n",
        "  numP5 = num5 % 2\n",
        "  cont = 0\n",
        "\n",
        "  if numP1 == 0:\n",
        "    cont = cont +1\n",
        "  if numP2 == 0:\n",
        "    cont = cont +1\n",
        "  if numP3 == 0:\n",
        "    cont = cont +1\n",
        "  if numP4 == 0:\n",
        "    cont = cont +1\n",
        "  if numP5 == 0:\n",
        "    cont = cont +1\n",
        "\n",
        "  print(f\"\\n {cont} números são pares\")"
      ]
    },
    {
      "cell_type": "code",
      "source": [
        "Num_par()"
      ],
      "metadata": {
        "colab": {
          "base_uri": "https://localhost:8080/"
        },
        "id": "LZ3_ordRqHyU",
        "outputId": "4e77a570-4437-427e-9153-15ea5033d0f9"
      },
      "execution_count": 15,
      "outputs": [
        {
          "output_type": "stream",
          "name": "stdout",
          "text": [
            "Digite o 1° número: 2\n",
            "Digite o 2° número: 4\n",
            "Digite o 3° número: 6\n",
            "Digite o 4° número: 7\n",
            "Digite o 5° número: 11\n",
            "\n",
            " 3 números são pares\n"
          ]
        }
      ]
    }
  ]
}