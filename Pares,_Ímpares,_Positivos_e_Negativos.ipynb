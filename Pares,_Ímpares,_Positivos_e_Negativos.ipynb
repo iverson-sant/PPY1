{
  "nbformat": 4,
  "nbformat_minor": 0,
  "metadata": {
    "colab": {
      "provenance": [],
      "authorship_tag": "ABX9TyNG0w+3zgqjJrBa3uMfajyP",
      "include_colab_link": true
    },
    "kernelspec": {
      "name": "python3",
      "display_name": "Python 3"
    },
    "language_info": {
      "name": "python"
    }
  },
  "cells": [
    {
      "cell_type": "markdown",
      "metadata": {
        "id": "view-in-github",
        "colab_type": "text"
      },
      "source": [
        "<a href=\"https://colab.research.google.com/github/iverson-sant/PPY1/blob/main/Pares%2C_%C3%8Dmpares%2C_Positivos_e_Negativos.ipynb\" target=\"_parent\"><img src=\"https://colab.research.google.com/assets/colab-badge.svg\" alt=\"Open In Colab\"/></a>"
      ]
    },
    {
      "cell_type": "code",
      "execution_count": 16,
      "metadata": {
        "id": "LGjsmSxYOU2l"
      },
      "outputs": [],
      "source": [
        "def de_n():\n",
        "\n",
        "  try:\n",
        "    num1 = int(input(\"Digite o 1° número: \"))\n",
        "    num2 = int(input(\"Digite o 2° número: \"))\n",
        "    num3 = int(input(\"Digite o 3° número: \"))\n",
        "    num4 = int(input(\"Digite o 4° número: \"))\n",
        "    num5 = int(input(\"Digite o 5° número: \"))\n",
        "\n",
        "  except ValueError:\n",
        "    print(\"Por favor digite apenas números\")\n",
        "    return\n",
        "\n",
        "  numP1 = num1 % 2\n",
        "  numP2 = num2 % 2\n",
        "  numP3 = num3 % 2\n",
        "  numP4 = num4 % 2\n",
        "  numP5 = num5 % 2\n",
        "\n",
        "  if num1 > 0 and numP1 == 0:\n",
        "    print(f\"\\n o Primeiro número: {num1} é Positivo e Par \")\n",
        "\n",
        "  elif num1 > 0 and numP1 != 0:\n",
        "    print(f\"\\n o Primeiro número: {num1} é Positivo e Ímpar \")\n",
        "\n",
        "  elif num1 < 0 and numP1 == 0:\n",
        "    print(f\"\\n o Primeiro número: {num1} é Negativo e Par \")\n",
        "\n",
        "  else:\n",
        "    print(f\"\\n o Primeiro número: {num1} é Negativo e Ímpar \")\n",
        "\n",
        "# codigo para verificar o segundo número\n",
        "\n",
        "  if num2 > 0 and numP2 == 0:\n",
        "    print(f\"\\n o Segundo número: {num2} é Positivo e Par \")\n",
        "\n",
        "  elif num2 > 0 and numP2 != 0:\n",
        "    print(f\"\\n o Segundo número: {num2} é Positivo e Ímpar \")\n",
        "\n",
        "  elif num2 < 0 and numP2 == 0:\n",
        "    print(f\"\\n o Segundo número: {num2} é Negativo e Par \")\n",
        "\n",
        "  else:\n",
        "    print(f\"\\n o Segundo número: {num2} é Negativo e Ímpar \")\n",
        "\n",
        "# codigo para verificar o terceiro número\n",
        "\n",
        "  if num3 > 0 and numP3 == 0:\n",
        "    print(f\"\\n o Terceiro número: {num3} é Positivo e Par \")\n",
        "\n",
        "  elif num3 > 0 and numP3 != 0:\n",
        "    print(f\"\\n o Terceiro número: {num3} é Positivo e Ímpar \")\n",
        "\n",
        "  elif num3 < 0 and numP3 == 0:\n",
        "    print(f\"\\n o Terceiro número: {num3} é Negativo e Par \")\n",
        "\n",
        "  else:\n",
        "    print(f\"\\n o Terceiro número: {num3} é Negativo e Ímpar \")\n",
        "\n",
        "# codigo para verificar o quarto número\n",
        "\n",
        "  if num4 > 0 and numP4 == 0:\n",
        "    print(f\"\\n o Quarto número: {num4} é Positivo e Par \")\n",
        "\n",
        "  elif num4 > 0 and numP4 != 0:\n",
        "    print(f\"\\n o Quarto número: {num4} é Positivo e Ímpar \")\n",
        "\n",
        "  elif num4 < 0 and numP4 == 0:\n",
        "    print(f\"\\n o Quarto número: {num4} é Negativo e Par \")\n",
        "\n",
        "  else:\n",
        "    print(f\"\\n o Quarto número: {num4} é Negativo e Ímpar \")\n",
        "\n",
        "# codigo para verificar o quinto número\n",
        "\n",
        "  if num5 > 0 and numP5 == 0:\n",
        "    print(f\"\\n o Quinto número: {num5} é Positivo e Par \")\n",
        "\n",
        "  elif num5 > 0 and numP5 != 0:\n",
        "    print(f\"\\n o Quinto número: {num5} é Positivo e Ímpar \")\n",
        "\n",
        "  elif num5 < 0 and numP5 == 0:\n",
        "    print(f\"\\n o Quinto número: {num5} é Negativo e Par \")\n",
        "\n",
        "  else:\n",
        "    print(f\"\\n o Quinto número: {num5} é Negativo e Ímpar \")\n"
      ]
    },
    {
      "cell_type": "code",
      "source": [
        "de_n()"
      ],
      "metadata": {
        "colab": {
          "base_uri": "https://localhost:8080/"
        },
        "id": "6ZY80AmPRL4r",
        "outputId": "b23c2733-d9fa-4f3a-8d8b-94bfe41e1a0a"
      },
      "execution_count": 17,
      "outputs": [
        {
          "output_type": "stream",
          "name": "stdout",
          "text": [
            "Digite o 1° número: 4\n",
            "Digite o 2° número: -6\n",
            "Digite o 3° número: 230\n",
            "Digite o 4° número: -679\n",
            "Digite o 5° número: -920\n",
            "\n",
            " o Primeiro número: 4 é Positivo e Par \n",
            "\n",
            " o Segundo número: -6 é Negativo e Par \n",
            "\n",
            " o Terceiro número: 230 é Positivo e Par \n",
            "\n",
            " o Quarto número: -679 é Negativo e Ímpar \n",
            "\n",
            " o Quinto número: -920 é Negativo e Par \n"
          ]
        }
      ]
    }
  ]
}