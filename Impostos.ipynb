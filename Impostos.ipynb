{
  "nbformat": 4,
  "nbformat_minor": 0,
  "metadata": {
    "colab": {
      "provenance": [],
      "authorship_tag": "ABX9TyMsZodDipBiPfCuNyJ6Twut",
      "include_colab_link": true
    },
    "kernelspec": {
      "name": "python3",
      "display_name": "Python 3"
    },
    "language_info": {
      "name": "python"
    }
  },
  "cells": [
    {
      "cell_type": "markdown",
      "metadata": {
        "id": "view-in-github",
        "colab_type": "text"
      },
      "source": [
        "<a href=\"https://colab.research.google.com/github/iverson-sant/PPY1/blob/main/Impostos.ipynb\" target=\"_parent\"><img src=\"https://colab.research.google.com/assets/colab-badge.svg\" alt=\"Open In Colab\"/></a>"
      ]
    },
    {
      "cell_type": "markdown",
      "source": [
        "# Desafio I"
      ],
      "metadata": {
        "id": "vabGk3olE6TM"
      }
    },
    {
      "cell_type": "code",
      "execution_count": 23,
      "metadata": {
        "id": "Hy5iqFY3E2dL"
      },
      "outputs": [],
      "source": [
        "def Impostos():\n",
        "\n",
        "  try:\n",
        "    salario = float(input(\"Qual é o salário: \"))\n",
        "  except ValueError:\n",
        "    print(\"Por favor digite apenas números\")\n",
        "    return\n",
        "\n",
        "  PORC8 = (salario - 2000.00 ) * 0.08\n",
        "  PORC18 = (1000.00 * 0.08) + ((salario - 3000.00) * 0.18)\n",
        "  PORC28 = (1000.00 * 0.08) + (1500.00 * 0.18) + ((salario - 4500.00) * 0.28)\n",
        "\n",
        "  if salario < 2000.00:\n",
        "    print(\"Isento de impostos\")\n",
        "\n",
        "  elif salario >= 2000.01 and salario <= 3000.01:\n",
        "    print(f'\\nO valor a ser pago de imposto é de R${PORC8:.2f} ')\n",
        "\n",
        "  elif salario >= 3000.01 and salario < 4500.00:\n",
        "\n",
        "    print(f'\\nO valor a ser pago de imposto é de R${PORC18:.2f} ')\n",
        "\n",
        "  else:\n",
        "\n",
        "    print(f'\\nO valor a ser pago de imposto é de R${PORC28:.2f} ')\n",
        "\n",
        "\n",
        "\n",
        "\n",
        ""
      ]
    },
    {
      "cell_type": "code",
      "source": [
        "Impostos()"
      ],
      "metadata": {
        "colab": {
          "base_uri": "https://localhost:8080/"
        },
        "id": "M7PrYlTHJzvb",
        "outputId": "838c7a4a-2452-4b8b-af24-e4aaedd95ffb"
      },
      "execution_count": 24,
      "outputs": [
        {
          "output_type": "stream",
          "name": "stdout",
          "text": [
            "Qual é o salário: 420000.53\n",
            "\n",
            "O valor a ser pago de imposto é de R$116690.15 \n"
          ]
        }
      ]
    }
  ]
}