{
  "nbformat": 4,
  "nbformat_minor": 0,
  "metadata": {
    "colab": {
      "provenance": [],
      "authorship_tag": "ABX9TyNKQ1qexxVyPFb/WLiXS8XA",
      "include_colab_link": true
    },
    "kernelspec": {
      "name": "python3",
      "display_name": "Python 3"
    },
    "language_info": {
      "name": "python"
    }
  },
  "cells": [
    {
      "cell_type": "markdown",
      "metadata": {
        "id": "view-in-github",
        "colab_type": "text"
      },
      "source": [
        "<a href=\"https://colab.research.google.com/github/iverson-sant/PPY1/blob/main/Calculadora.ipynb\" target=\"_parent\"><img src=\"https://colab.research.google.com/assets/colab-badge.svg\" alt=\"Open In Colab\"/></a>"
      ]
    },
    {
      "cell_type": "markdown",
      "source": [
        "# **Calculadora**"
      ],
      "metadata": {
        "id": "Jx1wX2KTQKZr"
      }
    },
    {
      "cell_type": "code",
      "execution_count": null,
      "metadata": {
        "id": "BYON_x56DXkM"
      },
      "outputs": [],
      "source": [
        "def calculadoraSimples():\n",
        "  oper = input(\"Digite a operação matemática: \").lower()\n",
        "  controle = \"S\" # Importante deixar da forma verdadeira da condição do while para executar o codigo\n",
        "\n",
        "# enquanto o \"controle\"  for \"S\", igual no inicio, a calculadora ira contunuar funcionando\n",
        "\n",
        "  while controle == \"S\":\n",
        "    try:\n",
        "      num1 = float(input(\"Digite o primeiro número:\"))\n",
        "      num2 = float(input(\"Digite o segundo número:\"))\n",
        "    except ValueError:\n",
        "      print(\"Valor não suportado, digite apenas números!\")\n",
        "      return\n",
        "\n",
        "    if oper.startswith('som'):\n",
        "      print(f\"A soma dos dois números é igual a {num1 + num2}\")\n",
        "\n",
        "    elif oper.startswith(\"sub\"):\n",
        "      print(f\"A subtração dos dois números é igual a {num1 - num2}\")\n",
        "\n",
        "    elif oper.startswith(\"mul\"):\n",
        "      print(f\"A multiplicação dos dois números é igual a {num1 * num2}\")\n",
        "\n",
        "    elif oper.startswith(\"div\") and num2 != 0:\n",
        "      print(f\"A divisão dos dois números é igual a {num1 / num2}\")\n",
        "\n",
        "    elif oper.startswith(\"div\") and num2 == 0:\n",
        "      print(\"Não consigo dividir um número por 0\")\n",
        "\n",
        "    else:\n",
        "      print(\"Infelizmente não consegui enterder o seu pedido \\ntente as seguintes operações: \\nSoma, Subtração, Multiplicação ou Divisão\")\n",
        "\n",
        "    controle = input(\"Quer continuar com as operações: \\nS/N: \").upper()\n"
      ]
    },
    {
      "cell_type": "code",
      "source": [
        "calculadoraSimples()"
      ],
      "metadata": {
        "id": "9IMGWMR-I7pp"
      },
      "execution_count": null,
      "outputs": []
    },
    {
      "cell_type": "markdown",
      "source": [
        "# Calculadora com **eval**\n",
        "## a função eval avalia o expressão de cadeia de caracteres e retorna seu valor. Utilizar para fazer contas simples.\n"
      ],
      "metadata": {
        "id": "uW5Re8ywSItx"
      }
    },
    {
      "cell_type": "code",
      "source": [
        "from os.path import extsep\n",
        "expre = input()\n",
        "print(eval(expre))"
      ],
      "metadata": {
        "id": "-N3Y5pAzR1Ex"
      },
      "execution_count": null,
      "outputs": []
    }
  ]
}