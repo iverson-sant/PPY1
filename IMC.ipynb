{
  "nbformat": 4,
  "nbformat_minor": 0,
  "metadata": {
    "colab": {
      "provenance": [],
      "authorship_tag": "ABX9TyNpRwXGKojEsPwqDqAcyzuX",
      "include_colab_link": true
    },
    "kernelspec": {
      "name": "python3",
      "display_name": "Python 3"
    },
    "language_info": {
      "name": "python"
    }
  },
  "cells": [
    {
      "cell_type": "markdown",
      "metadata": {
        "id": "view-in-github",
        "colab_type": "text"
      },
      "source": [
        "<a href=\"https://colab.research.google.com/github/iverson-sant/PPY1/blob/main/IMC.ipynb\" target=\"_parent\"><img src=\"https://colab.research.google.com/assets/colab-badge.svg\" alt=\"Open In Colab\"/></a>"
      ]
    },
    {
      "cell_type": "markdown",
      "source": [
        "# Calculadora de **IMC**"
      ],
      "metadata": {
        "id": "kgVAw2kKrH4F"
      }
    },
    {
      "cell_type": "code",
      "execution_count": 54,
      "metadata": {
        "id": "KEg1G0p2UAqg"
      },
      "outputs": [],
      "source": [
        "def calculadora_IMC():\n",
        "  try:\n",
        "    peso = float(input(\"Qual seu peso altual: \"))\n",
        "    altura = float(input(\"Qual sua altura: \")) ** 2\n",
        "\n",
        "  except ValueError:\n",
        "    print(\"Coloque apenas números.\")\n",
        "    return\n",
        "\n",
        "  imc = peso / altura\n",
        "\n",
        "\n",
        "  if imc < 18.5 :\n",
        "    print(f\"Seu IMC é de {imc:.1f} você está abaixo do peso normal\")\n",
        "    novoPeso = ((imc - 18.6) * -1) * altura\n",
        "    print(f\"Para ter um peso normal, você terá que ganhar {novoPeso:.1f}Kg \\nSeu peso ideal é {peso + novoPeso:.1f}Kg\")\n",
        "\n",
        "  elif imc >= 18.5 and imc <= 24.9:\n",
        "    print(f\"Seu IMC é de {imc:.1f} seu peso está normal\")\n",
        "\n",
        "  elif imc >= 25.0 and imc <= 29.9:\n",
        "    print(f\"Seu IMC é de {imc:.1f} você esta com Excesso de peso\")\n",
        "\n",
        "    novoPeso = (imc - 24.9)  * altura\n",
        "    print(f\"Para ter um peso normal, você terá que perder {novoPeso:.1f} Kg \\nSeu peso ideal é {peso - novoPeso:.1f}Kg\")\n",
        "\n",
        "  elif imc >= 30.0 and imc <= 34.9:\n",
        "    print(f\"Seu IMC é de {imc:.1f} você está com obesidade classe I\")\n",
        "\n",
        "    novoPeso = (imc - 24.9) * altura\n",
        "    print(f\"Para ter um peso normal, você terá que perder {novoPeso:.1f} Kg \\nSeu peso ideal é {peso - novoPeso:.1f}Kg\")\n",
        "\n",
        "  elif imc >= 35.0 and imc <= 39.9:\n",
        "    print(f\"Seu IMC é de {imc:.1f} você está com obesidade classe II\")\n",
        "\n",
        "    novoPeso = (imc - 24.9)  * altura\n",
        "    print(f\"Para ter um peso normal, você terá que perder {novoPeso:.1f} Kg \\nSeu peso ideal é {peso - novoPeso:.1f}Kg\")\n",
        "\n",
        "  else:\n",
        "    print(f\"Seu IMC é de {imc:.1f} você está com obesidade classe III\")\n",
        "\n",
        "    novoPeso = (imc - 24.9)  * altura\n",
        "    print(f\"Para ter um peso normal, você terá que perder {novoPeso:.1f} Kg \\nSeu peso ideal é {peso - novoPeso:.1f}Kg\")"
      ]
    },
    {
      "cell_type": "code",
      "source": [
        "calculadora_IMC()"
      ],
      "metadata": {
        "colab": {
          "base_uri": "https://localhost:8080/"
        },
        "id": "xWIqiIeI0kvN",
        "outputId": "1d4b1d1c-3f1c-4e9e-8d9f-d1a56cf4ea59"
      },
      "execution_count": 53,
      "outputs": [
        {
          "output_type": "stream",
          "name": "stdout",
          "text": [
            "Qual seu peso altual: 600\n",
            "Qual sua altura: 1.8\n",
            "Seu IMC é de 185.2 você está com obesidade classe III\n",
            "Para ter um peso normal, você terá que perder 519.3 Kg \n",
            "Seu peso ideal é 80.7Kg\n"
          ]
        }
      ]
    }
  ]
}