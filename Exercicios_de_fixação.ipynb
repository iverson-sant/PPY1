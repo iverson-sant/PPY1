{
  "nbformat": 4,
  "nbformat_minor": 0,
  "metadata": {
    "colab": {
      "provenance": [],
      "mount_file_id": "1Zsrf0SGrLirKaYfbLT2cIXFH-mne1T7L",
      "authorship_tag": "ABX9TyNB3dKzosaS8klZvfMR/Pf2",
      "include_colab_link": true
    },
    "kernelspec": {
      "name": "python3",
      "display_name": "Python 3"
    },
    "language_info": {
      "name": "python"
    }
  },
  "cells": [
    {
      "cell_type": "markdown",
      "metadata": {
        "id": "view-in-github",
        "colab_type": "text"
      },
      "source": [
        "<a href=\"https://colab.research.google.com/github/iverson-sant/PPY1/blob/main/Exercicios_de_fixa%C3%A7%C3%A3o.ipynb\" target=\"_parent\"><img src=\"https://colab.research.google.com/assets/colab-badge.svg\" alt=\"Open In Colab\"/></a>"
      ]
    },
    {
      "cell_type": "markdown",
      "source": [
        "**1.Cálculo de Idade**"
      ],
      "metadata": {
        "id": "0nModmVsdQHj"
      }
    },
    {
      "cell_type": "code",
      "execution_count": null,
      "metadata": {
        "id": "uXy3Fk6_aHlb"
      },
      "outputs": [],
      "source": [
        "Ano_atual = 2025 # Constante do ano que estamos\n",
        "\n",
        "data_nascimento = input(\"Digite seu ano de nascimento: \" ) # entrada do ano de nacimento do usuário\n",
        "\n",
        "nacimento = int(data_nascimento) # Conversão dos dados de string (texto) para número inteiro (int)\n",
        "\n",
        "idade = Ano_atual - nacimento # Calculo da idade do usuário\n",
        "\n",
        "print(\"Você tem\", idade, \"Anos.\") # retorna a idade atual do usuário baseado apenas no ano"
      ]
    },
    {
      "cell_type": "markdown",
      "source": [
        " **2.Operações com Dois Números**\n"
      ],
      "metadata": {
        "id": "ZgHS6QEfdqAc"
      }
    },
    {
      "cell_type": "code",
      "source": [
        "# Criação de um codigo onde o usuário digita dois números qualquer\n",
        "#e será retornado a soma, subtração, multiplicação e divisão desses números\n",
        "\n",
        "print(\"  Vamos ver as quatro operações matemáticas básicas\")\n",
        "\n",
        "num1 = float(input(\"Digite um número: \")) # dessa forma o input só é aceito como um número float\n",
        "num2 = float(input(\"Agora digite outro: \"))\n",
        "\n",
        "# Variaveis de calculo.\n",
        "adição = num1 + num2\n",
        "subtração = num1 - num2\n",
        "multi = num1 * num2\n",
        "div = num1 / num2\n",
        "\n",
        "\n",
        "print(\"A adição de\", num1, \"+\", num2, \"é igual a\", adição)\n",
        "print(\"\")\n",
        "print(\"A subtração de\", num1, \"-\", num2, \"é igual a\",subtração)\n",
        "print(\"\")\n",
        "print(\"A multiplicação de\", num1, \"x\", num2, \"é igual a\",multi)\n",
        "print(\"\")\n",
        "\n",
        "# O if_else usado aqui, serve para evitar um erro de calculo, onde o divisor de um número qualquer não pode ser 0.\n",
        "\n",
        "if num2 !=0:\n",
        "  print(\"A divisão de\", num1, \"/\", num2, \"é igual a\",div)\n",
        "else:\n",
        "  print(\" Ainda não é possivel dividir um número por 0\")"
      ],
      "metadata": {
        "id": "gNNXq6zod-s9"
      },
      "execution_count": null,
      "outputs": []
    },
    {
      "cell_type": "markdown",
      "source": [
        "##✅3.Área de um Retângulo\n",
        "\n",
        "Peça a base e a altura de um retângulo e calcule a área utilizando a fórmula:\n",
        "\n",
        "📐 Área = base * altura"
      ],
      "metadata": {
        "id": "6tiNBffh2PXw"
      }
    },
    {
      "cell_type": "code",
      "source": [
        "\n",
        "\n",
        "def Area_Do_Retangulo():\n",
        "  print(\"Forneça a BASE e a ALTURA do seu Retângulo para obter a área \\n\")\n",
        "  try:\n",
        "\n",
        "    base = float(input(\"Quantos cm tem sua base? \"))\n",
        "    altura = float(input(\"\\nE quantos cm tem a altura? \"))\n",
        "  except ValueError:\n",
        "    print(\"Dados incorretos. \\npor favor digite apenas números \")\n",
        "    return\n",
        "  print(f\"\\nA área do retângulo de base {base:.2f}cm e altura {altura:.2f}cm é igual a {base * altura:.2f}cm².\")\n",
        "\n",
        "\n",
        "Area_Do_Retangulo()"
      ],
      "metadata": {
        "id": "rjs_S4pP2X2J"
      },
      "execution_count": null,
      "outputs": []
    },
    {
      "cell_type": "markdown",
      "source": [
        "**✅4.Conversão de Temperatura\n",
        "\n",
        "Peça uma temperatura em graus Celsius ao usuário e converta para Fahrenheit usando a fórmula:\n",
        "\n",
        "🌡️ F = C * 1.8 + 32"
      ],
      "metadata": {
        "id": "dDE99aEoZwJE"
      }
    },
    {
      "cell_type": "code",
      "source": [
        "\n",
        "def Conversão_temperatura():\n",
        "  print(\"Conversor de Temperatura: °C para °F\")\n",
        "  try:\n",
        "    celsius = float(input(\"\\nDigite a temperatura em °C? \"))\n",
        "  except ValueError:\n",
        "    print(\"Dados incorretos. \\npor favor digite apenas números \")\n",
        "    return\n",
        "  print(f\"\\nA temperatura de {celsius:.2f}°C convertida em Fahrenheit é de {celsius * 1.8 + 32:.2f}°F\" )\n",
        "\n",
        "Conversão_temperatura()\n"
      ],
      "metadata": {
        "id": "ohf5xeE2Zyu8"
      },
      "execution_count": null,
      "outputs": []
    },
    {
      "cell_type": "markdown",
      "source": [
        "**✅5.Média de Três Notas\n",
        "\n",
        "Receba três notas de um aluno e calcule a média aritmética simples.\n",
        "\n",
        "\n",
        "Dica: use print(f\"{media:.2f}\") para formatar com duas casas decimais."
      ],
      "metadata": {
        "id": "XQXarryydbxD"
      }
    },
    {
      "cell_type": "code",
      "source": [
        "def Media_do_Aluno():\n",
        "  print(\"Vamos Calcular sua Média Final\")\n",
        "\n",
        "  try:\n",
        "    nota1 = float(input(\"\\nDigite sua 1° nota:\"))\n",
        "    nota2 = float(input(\"\\nDigite sua 2° nota:\"))\n",
        "    nota3 = float(input(\"\\nDigite sua 3° nota:\"))\n",
        "  except ValueError:\n",
        "    print(\"Dados incorretos. \\npor favor digite apenas números\" )\n",
        "    return\n",
        "  print(f\"\\nA Média final das suas notas é {(nota1 + nota2 + nota3) / 3:.2f}\")\n",
        "\n",
        "Media_do_Aluno()\n",
        "\n",
        "\n"
      ],
      "metadata": {
        "id": "hhcaNGEHdhEb"
      },
      "execution_count": null,
      "outputs": []
    },
    {
      "cell_type": "markdown",
      "source": [
        "**✅6.Cálculo de Salário com Bônus\n",
        "\n",
        "\n",
        "Peça o valor do salário base de um funcionário e calcule o salário final com um bônus fixo de 15%.\n",
        "\n",
        "(Use uma constante BONUS = 0.15)"
      ],
      "metadata": {
        "id": "snuDu-va28Ah"
      }
    },
    {
      "cell_type": "code",
      "source": [
        "def Salario_bonus():\n",
        "  print(\"Quanto é o seu salário? \")\n",
        "\n",
        "  try:\n",
        "    sal = float(input(\"\\nDigite o seu salário:\"))\n",
        "  except  ValueError:\n",
        "    print(\"Dados incorretos. \\npor favor digite apenas números\" )\n",
        "    return\n",
        "  print(f\"\\nO seu salário é de R${sal:.2f} mais 15% de bônus, seu salário final é de R${sal + (0.15 * sal):.2f} \")\n",
        "\n",
        "Salario_bonus()"
      ],
      "metadata": {
        "id": "2H-6osji3BYq"
      },
      "execution_count": null,
      "outputs": []
    },
    {
      "cell_type": "markdown",
      "source": [
        "✅7.Troca de Valores entre Variáveis\n",
        "\n",
        "Peça dois valores ao usuário e troque os valores entre si."
      ],
      "metadata": {
        "id": "xV1x7sxE-TbS"
      }
    },
    {
      "cell_type": "code",
      "source": [
        "\n",
        "def Troca_valores():\n",
        "  print(\"Vamos Mudar Seus Valores\")\n",
        "\n",
        "  try:\n",
        "    valorA = int(input(\"\\nMe de qualquer número inteiro:\"))\n",
        "    valorB = int(input(\"\\nAgora outro número inteiro:\"))\n",
        "  except ValueError:\n",
        "    print(\"Dados incorretos. \\npor favor digite apenas números\" )\n",
        "    return\n",
        "  novoA = valorB\n",
        "  novoB = valorA\n",
        "  print(f\"\\nVamos colocar os números em uma sequencia diferente... \\nAntes seu primeiro valor era de {valorA} \\ne seu segundo valor era de {valorB}\")\n",
        "  print(f\"\\nAgora temos o primeiro valor como {novoA} e segundo valor como {novoB}\")\n",
        "\n",
        "Troca_valores()"
      ],
      "metadata": {
        "id": "c9QcBvRH-XsC"
      },
      "execution_count": null,
      "outputs": []
    }
  ]
}